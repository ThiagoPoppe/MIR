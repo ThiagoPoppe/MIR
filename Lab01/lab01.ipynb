{
 "cells": [
  {
   "cell_type": "markdown",
   "metadata": {
    "id": "Xq4zq2Swzaeb"
   },
   "source": [
    "# Representações\n",
    "\n",
    "**Objetivos**\n",
    "1. Entender as diferentes representações de música\n",
    "1. Treinar um pouco de música com music21\n",
    "\n",
    "**Resultado Esperado**\n",
    "1. Uma base nem conceitos simples de música e representações para o resto do curso\n",
    "\n",
    "## Pacotes Necessários\n",
    "\n",
    "Para conseguir entender um pouco de música e midi, será necessária a instalação do pacote [Music21](https://web.mit.edu/music21/). Instale o pacote no seu ambiente anaconda configurado no primeiro lab. O mesmo serve para tocar e manipular arquivos midi e MusicXML. Para instalar o pacote execute o comando abaixo em um terminal.\n",
    "\n",
    "```bash\n",
    "pip install music21\n",
    "```\n",
    "\n",
    "Além do Music21, instale os programas:\n",
    "\n",
    "1. [Lilypond](http://lilypond.org/)\n",
    "1. [MuseScore](https://musescore.com/)\n",
    "\n",
    "\n",
    "### Configurando o Music21\n",
    "\n",
    "Os dois são necessários para que o music21 funcione. Depois de instalar os programas execute os comandos abaixo em um Notebook ou prompt Python.\n",
    "\n",
    "```python\n",
    "from music21 import *\n",
    "configure.run()\n",
    "```\n",
    "\n",
    "*Caso o Music21 não funcione*\n",
    "\n",
    "O comando acima deve configurar automaticamente o Music21. Caso não funcione, altere o arquivo `~/.music21rc`. Isto deve ser algo como `/home/usuario/.music21rc` no Linux ou WSL, `/Users/usuario/.music21rc`, ou `music21-settings.xml` no diretório Dados de Aplicatio (Application Data) no Windows. \n",
    "\n",
    "Garanta que os caminhos apontam para os executáveis dos aplicatiovos. No Windows serão os .exe de cada um. Abaixo coloco as entradas corretas para um ambiente Windows.\n",
    "\n",
    "```\n",
    "<settings encoding=\"utf-8\">\n",
    "  ...\n",
    "  <preference name=\"lilypondPath\" value=\"/usr/bin/lilypond\" />\n",
    "  <preference name=\"musescoreDirectPNGPath\" value=\"/usr/bin/musescore\" />\n",
    "  <preference name=\"musicxmlPath\" value=\"/usr/bin/musescore\" />\n",
    "  ...\n",
    "</settings>\n",
    "```\n",
    "\n",
    "## Imports Básicos"
   ]
  },
  {
   "cell_type": "code",
   "execution_count": 1,
   "metadata": {
    "id": "MShe5G-Qzaer"
   },
   "outputs": [
    {
     "data": {
      "text/plain": [
       "<matplotlib.pyplot._IonContext at 0x7f1bc822ed00>"
      ]
     },
     "execution_count": 1,
     "metadata": {},
     "output_type": "execute_result"
    }
   ],
   "source": [
    "from music21 import *\n",
    "\n",
    "import librosa\n",
    "import librosa.display\n",
    "\n",
    "import IPython.display as ipd\n",
    "\n",
    "import matplotlib.pyplot as plt\n",
    "import numpy as np\n",
    "import pandas as pd\n",
    "\n",
    "plt.rcParams['axes.labelsize']  = 20\n",
    "plt.rcParams['axes.titlesize']  = 20\n",
    "plt.rcParams['legend.fontsize'] = 20\n",
    "plt.rcParams['xtick.labelsize'] = 20\n",
    "plt.rcParams['ytick.labelsize'] = 20\n",
    "plt.rcParams['lines.linewidth'] = 4\n",
    "\n",
    "plt.ion()"
   ]
  },
  {
   "cell_type": "markdown",
   "metadata": {
    "id": "VchBN_4Jzaev"
   },
   "source": [
    "## Parte 1: Notas Musicais\n",
    "\n",
    "Na aula nós vimos que toda nota musical representa uma frequência. Com o music21, podemos tocar uma nota da forma abaixo."
   ]
  },
  {
   "cell_type": "code",
   "execution_count": 2,
   "metadata": {
    "id": "fnrXirQizaex"
   },
   "outputs": [
    {
     "data": {
      "text/html": [
       "\n",
       "                <div id='midiPlayerDiv13'></div>\n",
       "                <link rel=\"stylesheet\" href=\"//cuthbertLab.github.io/music21j/css/m21.css\"\n",
       "                    type=\"text/css\" />\n",
       "                <script>\n",
       "                require.config({\n",
       "                    paths: {'music21': '//cuthbertLab.github.io/music21j/src/music21'}\n",
       "                });\n",
       "                require(['music21'], function() {\n",
       "                               mp = new music21.miditools.MidiPlayer();\n",
       "                               mp.addPlayer('#midiPlayerDiv13');\n",
       "                               mp.base64Load('data:audio/midi;base64,TVRoZAAAAAYAAQACBABNVHJrAAAAFAD/UQMHoSAA/1gEBAIYCIgA/y8ATVRyawAAABcA/wMAAOAAQIgAkENaiACAQwCIAP8vAA==');\n",
       "                        });\n",
       "                </script>"
      ],
      "text/plain": [
       "<IPython.core.display.HTML object>"
      ]
     },
     "metadata": {},
     "output_type": "display_data"
    }
   ],
   "source": [
    "n = note.Note('G4')\n",
    "n.show('midi')"
   ]
  },
  {
   "cell_type": "markdown",
   "metadata": {
    "id": "y0JQFdGTzaey"
   },
   "source": [
    "Podemos pegar a frequência com o código abaixo."
   ]
  },
  {
   "cell_type": "code",
   "execution_count": 3,
   "metadata": {
    "id": "O86vSWLpzae0"
   },
   "outputs": [
    {
     "name": "stdout",
     "output_type": "stream",
     "text": [
      "391.99543598174927\n"
     ]
    }
   ],
   "source": [
    "print(n.pitch.frequency)"
   ]
  },
  {
   "cell_type": "markdown",
   "metadata": {
    "id": "669wFLS5zae3"
   },
   "source": [
    "**Questão 01:** Crie uma função Python (abaixo) que aumenta *uma oitava* na nota musical, isto é, recebe um nome de uma nota e retorna **uma nova nova** uma oitava acima. Leia a documentação do music21 ou faça um código em python na mão mesmo."
   ]
  },
  {
   "cell_type": "code",
   "execution_count": 4,
   "metadata": {
    "id": "rO1TB2eUzae6"
   },
   "outputs": [],
   "source": [
    "def aumenta_oitava(n: note.Note):\n",
    "    return note.Note(n.name + str(n.octave + 1))"
   ]
  },
  {
   "cell_type": "markdown",
   "metadata": {
    "id": "qqf5alH0zae9"
   },
   "source": [
    "**Questão 02:** Escreva no markdown abaixo como aumentar uma oitava muda a frequência."
   ]
  },
  {
   "cell_type": "markdown",
   "metadata": {
    "id": "11FJQhkjzafA"
   },
   "source": [
    "- **Resposta:** Ao aumentarmos a nota em uma oitava, nós estamos multiplicando a sua frequência por 2. Podemos observar esse fenômeno na célula abaixo utilizando a função ``aumenta_oitava`` e exibindo a nova frequência da nota. Note que há algum erro associado com ponto flutuante, mas essencialmente estaremos multiplicando a frequência por 2."
   ]
  },
  {
   "cell_type": "code",
   "execution_count": 5,
   "metadata": {},
   "outputs": [
    {
     "name": "stdout",
     "output_type": "stream",
     "text": [
      "Frequencia da nota A4: 440.0\n",
      "Frequencia da nota A5: 880.0000000000003\n"
     ]
    }
   ],
   "source": [
    "a4 = note.Note('A4')\n",
    "a5 = aumenta_oitava(a4)\n",
    "\n",
    "print('Frequencia da nota A4:', a4.pitch.frequency)\n",
    "print('Frequencia da nota A5:', a5.pitch.frequency)"
   ]
  },
  {
   "cell_type": "markdown",
   "metadata": {
    "id": "0xhiG5PNzafD"
   },
   "source": [
    "## Parte 2: Midi e Partituras\n",
    "\n",
    "**Questão 03** Indique quais notas são tocadas na melodia abaixo. Por exemplo, caso seja do-re-mi, a resposta é 'c4 d4 e4'. Lembre-se que isso é uma clave de sol. A clave indica o local do dó,fica: **na linha tocada pelo extremo mais direito do & (e comercial).** O sol indicado pela clave é o 'g4'.\n",
    "\n",
    "![](./q02.png)"
   ]
  },
  {
   "cell_type": "markdown",
   "metadata": {
    "id": "ZGKIfTzLzafE"
   },
   "source": [
    "- **Resposta:** As notas da melodia são: g4, f4, g4, c4, b4, c4."
   ]
  },
  {
   "cell_type": "markdown",
   "metadata": {
    "id": "z5pV2nl1zafH"
   },
   "source": [
    "**Questão 04** Crie um código que gera as primeiras n posições de fibonacci. A sequência começa de com `[0, 1]`. Estas são as duas primeiras posições. Com as n-posições, gere uma melodia em music21 que inicia de `eb4`.\n",
    "\n",
    "Para cada valor da sequência você vai iniciar do valor `eb4` (mi bemol na quarta oitava) e subir um semi-tom. Lembrando que temos 12 semitons na escala cromática abaixo. \n",
    "\n",
    "![](./cromo.jpg)\n",
    "\n",
    "Abaixo temos a primeira nota."
   ]
  },
  {
   "cell_type": "code",
   "execution_count": 6,
   "metadata": {
    "id": "o9PBzoX7zafI"
   },
   "outputs": [
    {
     "data": {
      "image/png": "[encoded data removed]",
      "text/plain": [
       "<IPython.core.display.Image object>"
      ]
     },
     "metadata": {
      "image/png": {
       "height": 49,
       "width": 159
      }
     },
     "output_type": "display_data"
    }
   ],
   "source": [
    "n = note.Note(\"eb4\")\n",
    "n.show()"
   ]
  },
  {
   "cell_type": "code",
   "execution_count": 7,
   "metadata": {
    "id": "1nsePe4AzafK"
   },
   "outputs": [
    {
     "data": {
      "text/plain": [
       "'mi bèmol'"
      ]
     },
     "execution_count": 7,
     "metadata": {},
     "output_type": "execute_result"
    }
   ],
   "source": [
    "n.pitch.spanish"
   ]
  },
  {
   "cell_type": "markdown",
   "metadata": {
    "id": "2gV2UJmszafK"
   },
   "source": [
    "Ao somar um tempos que ir para `mi` (e4). Ao somar dois para `fa` (f4). Abaixo temos um exemplo com os primeiros números da sequência:\n",
    "\n",
    "`0 1 1 2 3 5 8`."
   ]
  },
  {
   "cell_type": "code",
   "execution_count": 8,
   "metadata": {
    "id": "WI-uowISzafL"
   },
   "outputs": [
    {
     "name": "stderr",
     "output_type": "stream",
     "text": [
      "/home/thiagopoppe/anaconda3/envs/mir/lib/python3.9/site-packages/music21/musicxml/m21ToXml.py:464: MusicXMLWarning: <music21.stream.Score 0x7f1b795d5550> is not well-formed; see isWellFormedNotation()\n",
      "  warnings.warn(f'{scOut} is not well-formed; see isWellFormedNotation()',\n"
     ]
    },
    {
     "data": {
      "image/png": "[encoded data removed]",
      "text/plain": [
       "<IPython.core.display.Image object>"
      ]
     },
     "metadata": {
      "image/png": {
       "height": 49,
       "width": 363
      }
     },
     "output_type": "display_data"
    }
   ],
   "source": [
    "score = stream.Score()\n",
    "txt_notes = ['eb4', 'e4', 'e4', 'f4', 'gb4', 'ab4']  # observe que seguimos no b4, vamos para 5 depois do si.\n",
    "for name in txt_notes:\n",
    "    score.append(note.Note(name))\n",
    "score.show()"
   ]
  },
  {
   "cell_type": "code",
   "execution_count": 9,
   "metadata": {
    "id": "z4ltvQszzafM"
   },
   "outputs": [
    {
     "data": {
      "text/html": [
       "\n",
       "                <div id='midiPlayerDiv188'></div>\n",
       "                <link rel=\"stylesheet\" href=\"//cuthbertLab.github.io/music21j/css/m21.css\"\n",
       "                    type=\"text/css\" />\n",
       "                <script>\n",
       "                require.config({\n",
       "                    paths: {'music21': '//cuthbertLab.github.io/music21j/src/music21'}\n",
       "                });\n",
       "                require(['music21'], function() {\n",
       "                               mp = new music21.miditools.MidiPlayer();\n",
       "                               mp.addPlayer('#midiPlayerDiv188');\n",
       "                               mp.base64Load('data:audio/midi;base64,TVRoZAAAAAYAAQACBABNVHJrAAAAFAD/UQMHoSAA/1gEBAIYCIgA/y8ATVRyawAAAEQA/wMAAOAAQIgAkD9aiACAPwAAkEBaiACAQAAAkEBaiACAQAAAkEFaiACAQQAAkEJaiACAQgAAkERaiACARACIAP8vAA==');\n",
       "                        });\n",
       "                </script>"
      ],
      "text/plain": [
       "<IPython.core.display.HTML object>"
      ]
     },
     "metadata": {},
     "output_type": "display_data"
    }
   ],
   "source": [
    "score.show('midi')"
   ]
  },
  {
   "cell_type": "markdown",
   "metadata": {
    "id": "-GWBTdn1zafN"
   },
   "source": [
    "Porém, fazer esse código na mão pode ser chato. Portanto, podemos usar MIDI!  A equação abaixo retorna uma frequência com base em seu código MIDI.\n",
    "\n",
    "$$F(p) = 2^{\\frac{p-69}{12}} 440$$\n",
    "\n",
    "A4 em MIDI é 69. Entre A4 e A5 existem 12 semi-tons na escala cromática. A5 tem o dobro da frequêncdia de A4. Assim, podemos pensar nessa equação da seguinte forma. Para sair de A4 para A5 precisamos multiplicar por 2.\n",
    "\n",
    "$$F(p) = 2 \\cdots 440 $$\n",
    "\n",
    "Só que esse intervalo é quebrado em 12 semi-tons, cada um crescendo em escala log.\n",
    "\n",
    "$$F(p) = 2^{\\frac{p-?}{12}} 440 $$\n",
    "\n",
    "Assim as notas até A5 vão crescer iniciando de A4 multiplicando A4 por: $2^{1/12}$, $2^{1/12}$, $2^{1/12}$, $2^{1/12}$, $\\cdots$, $2^{12/12}$. Esta última é 2x A4.\n",
    "\n",
    "Como MIDI inicia em 69. Chegamos em:\n",
    "\n",
    "$$F(p) = 2^{\\frac{p-69}{12}} 440 $$\n",
    "\n",
    "Assim podemos caminhar via midi como abaixo!"
   ]
  },
  {
   "cell_type": "code",
   "execution_count": 10,
   "metadata": {
    "id": "1M49O4RRzafP"
   },
   "outputs": [
    {
     "data": {
      "text/plain": [
       "<music21.note.Note D>"
      ]
     },
     "execution_count": 10,
     "metadata": {},
     "output_type": "execute_result"
    }
   ],
   "source": [
    "note.Note(pitch.Pitch(69 + 5))"
   ]
  },
  {
   "cell_type": "code",
   "execution_count": 11,
   "metadata": {
    "id": "mtKm5MxLzafQ"
   },
   "outputs": [],
   "source": [
    "def fibo(n: int):\n",
    "    if n == 1:\n",
    "        return [0]\n",
    "    \n",
    "    sequence = [0, 1]\n",
    "    for i in range(2, n):\n",
    "        sequence.append(sequence[i-1] + sequence[i-2])\n",
    "    \n",
    "    return sequence\n",
    "\n",
    "# Nós queremos começar de eb4, logo, devemos ajustar o valor 69 (que representa A4)\n",
    "def fibo_melody(n: int):\n",
    "    score = stream.Score()\n",
    "    eb4_midi_value = note.Note('eb4').pitch.midi\n",
    "    \n",
    "    for i in fibo(n):\n",
    "        score.append(note.Note(pitch.Pitch(eb4_midi_value + i)))\n",
    "        \n",
    "    return score    "
   ]
  },
  {
   "cell_type": "code",
   "execution_count": 12,
   "metadata": {
    "id": "EHba7k6azafS"
   },
   "outputs": [
    {
     "name": "stderr",
     "output_type": "stream",
     "text": [
      "/home/thiagopoppe/anaconda3/envs/mir/lib/python3.9/site-packages/music21/musicxml/m21ToXml.py:464: MusicXMLWarning: <music21.stream.Score 0x7f1b7953b670> is not well-formed; see isWellFormedNotation()\n",
      "  warnings.warn(f'{scOut} is not well-formed; see isWellFormedNotation()',\n"
     ]
    },
    {
     "data": {
      "image/png": "[encoded data removed]",
      "text/plain": [
       "<IPython.core.display.Image object>"
      ]
     },
     "metadata": {
      "image/png": {
       "height": 247,
       "width": 748
      }
     },
     "output_type": "display_data"
    }
   ],
   "source": [
    "s = fibo_melody(12)\n",
    "s.show()"
   ]
  },
  {
   "cell_type": "markdown",
   "metadata": {
    "id": "4d0sWElKzafS"
   },
   "source": [
    "**Questão 5** Plote o piano roll da sua música abaixo. Use `score.plot('pianoroll')`"
   ]
  },
  {
   "cell_type": "code",
   "execution_count": 13,
   "metadata": {
    "id": "VrLBk-7uzafT"
   },
   "outputs": [
    {
     "data": {
      "text/plain": [
       "<music21.graph.plot.HorizontalBarPitchSpaceOffset for <music21.stream.Score 0x7f1b794d9ac0>>"
      ]
     },
     "execution_count": 13,
     "metadata": {},
     "output_type": "execute_result"
    },
    {
     "data": {
      "image/png": "[encoded data removed]",
      "text/plain": [
       "<Figure size 720x432 with 1 Axes>"
      ]
     },
     "metadata": {
      "image/png": {
       "height": 382,
       "width": 592
      }
     },
     "output_type": "display_data"
    }
   ],
   "source": [
    "s.plot('pianoroll')"
   ]
  },
  {
   "cell_type": "markdown",
   "metadata": {
    "id": "vMNNRpVczafU"
   },
   "source": [
    "**Questão 6** Gere um XML da sua melodia. Leia o mesmo, só pelo esporte.\n",
    "\n",
    "- **Resposta:** Consegui achar a seguinte forma de exportar para XML, não sei se é a melhor forma de se fazer. Nela, conseguimos observar, com uma certa dificuldade, as notas que nós criamos dentro das tags <note> para cada compasso."
   ]
  },
  {
   "cell_type": "code",
   "execution_count": 14,
   "metadata": {
    "scrolled": false
   },
   "outputs": [
    {
     "name": "stdout",
     "output_type": "stream",
     "text": [
      "<?xml version=\"1.0\" encoding=\"utf-8\"?>\n",
      "<!DOCTYPE score-partwise  PUBLIC \"-//Recordare//DTD MusicXML 3.1 Partwise//EN\" \"http://www.musicxml.org/dtds/partwise.dtd\">\n",
      "<score-partwise version=\"3.1\">\n",
      "  <movement-title>Music21 Fragment</movement-title>\n",
      "  <identification>\n",
      "    <creator type=\"composer\">Music21</creator>\n",
      "    <encoding>\n",
      "      <encoding-date>2021-11-07</encoding-date>\n",
      "      <software>music21 v.7.1.0</software>\n",
      "    </encoding>\n",
      "  </identification>\n",
      "  <defaults>\n",
      "    <scaling>\n",
      "      <millimeters>7</millimeters>\n",
      "      <tenths>40</tenths>\n",
      "    </scaling>\n",
      "  </defaults>\n",
      "  <part-list>\n",
      "    <score-part id=\"P6e25e180f0efc1eeb433328251cae136\">\n",
      "      <part-name />\n",
      "    </score-part>\n",
      "  </part-list>\n",
      "  <!--=========================== Part 1 ===========================-->\n",
      "  <part id=\"P6e25e180f0efc1eeb433328251cae136\">\n",
      "    <!--========================= Measure 1 ==========================-->\n",
      "    <measure number=\"1\">\n",
      "      <attributes>\n",
      "        <divisions>10080</divisions>\n",
      "        <time>\n",
      "          <beats>4</beats>\n",
      "          <beat-type>4</beat-type>\n",
      "        </time>\n",
      "        <clef>\n",
      "          <sign>G</sign>\n",
      "          <line>2</line>\n",
      "        </clef>\n",
      "      </attributes>\n",
      "      <note>\n",
      "        <pitch>\n",
      "          <step>E</step>\n",
      "          <alter>-1</alter>\n",
      "          <octave>4</octave>\n",
      "        </pitch>\n",
      "        <duration>10080</duration>\n",
      "        <type>quarter</type>\n",
      "        <accidental>flat</accidental>\n",
      "      </note>\n",
      "      <note>\n",
      "        <pitch>\n",
      "          <step>E</step>\n",
      "          <alter>0</alter>\n",
      "          <octave>4</octave>\n",
      "        </pitch>\n",
      "        <duration>10080</duration>\n",
      "        <type>quarter</type>\n",
      "        <accidental>natural</accidental>\n",
      "      </note>\n",
      "      <note>\n",
      "        <pitch>\n",
      "          <step>E</step>\n",
      "          <alter>0</alter>\n",
      "          <octave>4</octave>\n",
      "        </pitch>\n",
      "        <duration>10080</duration>\n",
      "        <type>quarter</type>\n",
      "      </note>\n",
      "      <note>\n",
      "        <pitch>\n",
      "          <step>F</step>\n",
      "          <alter>0</alter>\n",
      "          <octave>4</octave>\n",
      "        </pitch>\n",
      "        <duration>10080</duration>\n",
      "        <type>quarter</type>\n",
      "        <accidental>natural</accidental>\n",
      "      </note>\n",
      "    </measure>\n",
      "    <!--========================= Measure 2 ==========================-->\n",
      "    <measure number=\"2\">\n",
      "      <note>\n",
      "        <pitch>\n",
      "          <step>F</step>\n",
      "          <alter>1</alter>\n",
      "          <octave>4</octave>\n",
      "        </pitch>\n",
      "        <duration>10080</duration>\n",
      "        <type>quarter</type>\n",
      "        <accidental>sharp</accidental>\n",
      "      </note>\n",
      "      <note>\n",
      "        <pitch>\n",
      "          <step>G</step>\n",
      "          <alter>1</alter>\n",
      "          <octave>4</octave>\n",
      "        </pitch>\n",
      "        <duration>10080</duration>\n",
      "        <type>quarter</type>\n",
      "        <accidental>sharp</accidental>\n",
      "      </note>\n",
      "      <note>\n",
      "        <pitch>\n",
      "          <step>B</step>\n",
      "          <alter>0</alter>\n",
      "          <octave>4</octave>\n",
      "        </pitch>\n",
      "        <duration>10080</duration>\n",
      "        <type>quarter</type>\n",
      "        <accidental>natural</accidental>\n",
      "      </note>\n",
      "      <note>\n",
      "        <pitch>\n",
      "          <step>E</step>\n",
      "          <alter>0</alter>\n",
      "          <octave>5</octave>\n",
      "        </pitch>\n",
      "        <duration>10080</duration>\n",
      "        <type>quarter</type>\n",
      "        <accidental>natural</accidental>\n",
      "      </note>\n",
      "    </measure>\n",
      "    <!--========================= Measure 3 ==========================-->\n",
      "    <measure number=\"3\">\n",
      "      <note>\n",
      "        <pitch>\n",
      "          <step>C</step>\n",
      "          <alter>0</alter>\n",
      "          <octave>6</octave>\n",
      "        </pitch>\n",
      "        <duration>10080</duration>\n",
      "        <type>quarter</type>\n",
      "        <accidental>natural</accidental>\n",
      "      </note>\n",
      "      <note>\n",
      "        <pitch>\n",
      "          <step>C</step>\n",
      "          <alter>1</alter>\n",
      "          <octave>7</octave>\n",
      "        </pitch>\n",
      "        <duration>10080</duration>\n",
      "        <type>quarter</type>\n",
      "        <accidental>sharp</accidental>\n",
      "      </note>\n",
      "      <note>\n",
      "        <pitch>\n",
      "          <step>B</step>\n",
      "          <alter>-1</alter>\n",
      "          <octave>8</octave>\n",
      "        </pitch>\n",
      "        <duration>10080</duration>\n",
      "        <type>quarter</type>\n",
      "        <accidental>flat</accidental>\n",
      "      </note>\n",
      "      <note>\n",
      "        <pitch>\n",
      "          <step>G</step>\n",
      "          <alter>1</alter>\n",
      "          <octave>11</octave>\n",
      "        </pitch>\n",
      "        <duration>10080</duration>\n",
      "        <type>quarter</type>\n",
      "        <accidental>sharp</accidental>\n",
      "      </note>\n",
      "      <barline location=\"right\">\n",
      "        <bar-style>light-heavy</bar-style>\n",
      "      </barline>\n",
      "    </measure>\n",
      "  </part>\n",
      "</score-partwise>\n"
     ]
    },
    {
     "name": "stderr",
     "output_type": "stream",
     "text": [
      "/home/thiagopoppe/anaconda3/envs/mir/lib/python3.9/site-packages/music21/musicxml/m21ToXml.py:464: MusicXMLWarning: <music21.stream.Score 0x7f1b7194f400> is not well-formed; see isWellFormedNotation()\n",
      "  warnings.warn(f'{scOut} is not well-formed; see isWellFormedNotation()',\n"
     ]
    }
   ],
   "source": [
    "GEX = musicxml.m21ToXml.GeneralObjectExporter(s)\n",
    "out = GEX.parse()\n",
    "\n",
    "outstr = out.decode('utf-8')\n",
    "print(outstr.strip())"
   ]
  }
 ],
 "metadata": {
  "colab": {
   "name": "lab01.ipynb",
   "provenance": []
  },
  "kernelspec": {
   "display_name": "Python 3 (ipykernel)",
   "language": "python",
   "name": "python3"
  },
  "language_info": {
   "codemirror_mode": {
    "name": "ipython",
    "version": 3
   },
   "file_extension": ".py",
   "mimetype": "text/x-python",
   "name": "python",
   "nbconvert_exporter": "python",
   "pygments_lexer": "ipython3",
   "version": "3.9.7"
  }
 },
 "nbformat": 4,
 "nbformat_minor": 1
}
